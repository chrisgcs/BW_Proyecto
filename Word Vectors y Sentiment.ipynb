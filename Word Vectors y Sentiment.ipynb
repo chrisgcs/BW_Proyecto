{
 "cells": [
  {
   "cell_type": "code",
   "execution_count": 37,
   "metadata": {},
   "outputs": [
    {
     "name": "stderr",
     "output_type": "stream",
     "text": [
      "/Users/christophergilbertcarroza/PyEnviroments/BW/lib/python3.6/site-packages/ipykernel_launcher.py:3: DeprecationWarning: Call to deprecated `wv` (Attribute will be removed in 4.0.0, use self instead).\n",
      "  This is separate from the ipykernel package so we can avoid doing imports until\n"
     ]
    }
   ],
   "source": [
    "import gensim.models.wrappers.fasttext\n",
    "model = gensim.models.KeyedVectors.load_word2vec_format('../fastext aligned/wiki.en.align.vec', binary=False, encoding='utf8')\n",
    "word_vectors = model.wv\n"
   ]
  },
  {
   "cell_type": "code",
   "execution_count": 20,
   "metadata": {},
   "outputs": [
    {
     "data": {
      "text/plain": [
       "[('cats', 0.73211669921875),\n",
       " ('kitten', 0.6452999114990234),\n",
       " ('dog', 0.6380449533462524),\n",
       " ('kittens', 0.6217814683914185),\n",
       " ('feline', 0.6106876134872437),\n",
       " ('cat/dog', 0.5801181793212891),\n",
       " ('pet', 0.5726068019866943),\n",
       " ('fluffykittens', 0.5583419799804688),\n",
       " ('poodle', 0.557597279548645),\n",
       " ('felines', 0.5575810670852661)]"
      ]
     },
     "execution_count": 20,
     "metadata": {},
     "output_type": "execute_result"
    }
   ],
   "source": [
    "word_vectors.most_similar(\"cat\") "
   ]
  },
  {
   "cell_type": "code",
   "execution_count": 33,
   "metadata": {},
   "outputs": [],
   "source": [
    "from gensim.models.fasttext import load_facebook_vectors"
   ]
  },
  {
   "cell_type": "code",
   "execution_count": 36,
   "metadata": {},
   "outputs": [
    {
     "data": {
      "text/plain": [
       "<gensim.models.keyedvectors.Word2VecKeyedVectors at 0x11d169b70>"
      ]
     },
     "execution_count": 36,
     "metadata": {},
     "output_type": "execute_result"
    }
   ],
   "source": [
    "word_vectors"
   ]
  },
  {
   "cell_type": "code",
   "execution_count": 38,
   "metadata": {},
   "outputs": [],
   "source": [
    "model.save('../fastext aligned/bin/wiki.en.align.bin')"
   ]
  },
  {
   "cell_type": "code",
   "execution_count": 45,
   "metadata": {},
   "outputs": [],
   "source": [
    "from gensim.models import KeyedVectors\n",
    "word_vectors = KeyedVectors.load('../fastext aligned/bin/wiki.en.align.bin', mmap='r')"
   ]
  },
  {
   "cell_type": "code",
   "execution_count": 51,
   "metadata": {},
   "outputs": [
    {
     "data": {
      "text/plain": [
       "memmap([-0.0327,  0.0332, -0.0772,  0.0275, -0.0469,  0.1078,  0.0504,\n",
       "        -0.1214,  0.008 ,  0.0365,  0.0359, -0.0007,  0.0465, -0.0417,\n",
       "         0.0666, -0.0216,  0.0181, -0.1038,  0.0469,  0.0666,  0.0023,\n",
       "         0.1221, -0.0987,  0.0255,  0.0834,  0.0058, -0.0176,  0.063 ,\n",
       "         0.0798,  0.1121,  0.0639,  0.0554,  0.0276, -0.0525,  0.0444,\n",
       "        -0.024 , -0.0154, -0.0101,  0.0151, -0.0066, -0.0261, -0.0619,\n",
       "        -0.0529, -0.0088,  0.0302,  0.1228, -0.0194, -0.0926,  0.0387,\n",
       "        -0.0696,  0.022 , -0.0141, -0.0218, -0.0827,  0.0747,  0.0894,\n",
       "         0.0022, -0.1003,  0.0178,  0.0456,  0.0493, -0.112 ,  0.0222,\n",
       "         0.0507, -0.0145, -0.0894,  0.0295, -0.0067, -0.0302,  0.0112,\n",
       "        -0.0122, -0.0821,  0.0589, -0.0976, -0.0933,  0.0064, -0.0399,\n",
       "         0.0827, -0.0884,  0.0282, -0.0162,  0.003 ,  0.0447,  0.0874,\n",
       "         0.0849,  0.027 , -0.0394,  0.0112,  0.0571,  0.0149,  0.0287,\n",
       "        -0.046 ,  0.0819,  0.034 ,  0.0254,  0.0362, -0.066 , -0.0593,\n",
       "        -0.0612,  0.0117,  0.0418,  0.02  , -0.0587,  0.0297,  0.0097,\n",
       "        -0.0552,  0.0519,  0.0018,  0.0614, -0.0462,  0.0485, -0.0071,\n",
       "        -0.0751, -0.0124,  0.0113, -0.0366,  0.0226, -0.0462,  0.0358,\n",
       "        -0.032 , -0.0096, -0.0332,  0.0122,  0.0568,  0.0368,  0.0305,\n",
       "         0.123 ,  0.0067,  0.0736,  0.1161, -0.07  ,  0.0352, -0.0601,\n",
       "         0.0728,  0.0064, -0.0252,  0.0347, -0.0398, -0.1045,  0.0729,\n",
       "         0.0237,  0.0226,  0.047 ,  0.0257, -0.017 ,  0.0345, -0.0016,\n",
       "        -0.0457, -0.0044,  0.0682, -0.0312, -0.0625, -0.107 , -0.0309,\n",
       "         0.0345,  0.0211,  0.0607, -0.0262, -0.0034,  0.071 ,  0.0298,\n",
       "         0.0076, -0.0665,  0.0387,  0.0284, -0.049 , -0.0366, -0.0551,\n",
       "         0.0258,  0.0321, -0.0131, -0.1178, -0.0299, -0.0204,  0.0393,\n",
       "        -0.0064, -0.0198, -0.0868,  0.0114, -0.0491, -0.0421, -0.0674,\n",
       "         0.1151, -0.0756, -0.0149, -0.0024,  0.0092, -0.016 ,  0.0107,\n",
       "         0.1034, -0.002 , -0.0847, -0.01  ,  0.0823, -0.0829, -0.121 ,\n",
       "        -0.1081, -0.0757, -0.1805, -0.0399,  0.0276,  0.0227,  0.0257,\n",
       "         0.0088,  0.0037, -0.1552, -0.0029, -0.1443, -0.0511, -0.0628,\n",
       "         0.0472, -0.0561,  0.0463, -0.0303,  0.0545, -0.0201,  0.0839,\n",
       "        -0.0049, -0.0536, -0.0332, -0.0169, -0.0503, -0.1271,  0.0587,\n",
       "        -0.032 , -0.0206, -0.0345, -0.006 ,  0.0351,  0.0569,  0.0319,\n",
       "         0.0604, -0.0113, -0.0104,  0.0121,  0.0873, -0.0574,  0.0394,\n",
       "        -0.0159,  0.0671, -0.0176,  0.1006,  0.0725,  0.0796, -0.0054,\n",
       "         0.0032, -0.0566,  0.0603, -0.0502,  0.1274,  0.0282, -0.066 ,\n",
       "        -0.124 ,  0.0628,  0.0281, -0.0581,  0.0478, -0.0185,  0.0708,\n",
       "        -0.0545, -0.0044,  0.011 ,  0.0163, -0.0526, -0.0956, -0.0106,\n",
       "         0.0189,  0.0066,  0.0164, -0.0195, -0.0481, -0.0175,  0.0903,\n",
       "        -0.098 ,  0.004 , -0.142 , -0.0038, -0.061 ,  0.0866,  0.0628,\n",
       "         0.0858,  0.0176,  0.0767,  0.0346,  0.0949,  0.0192,  0.0062,\n",
       "         0.0487, -0.1055, -0.0334,  0.036 , -0.0774,  0.0243, -0.0126,\n",
       "        -0.0163, -0.0016, -0.0158,  0.0647,  0.1231, -0.0021],\n",
       "       dtype=float32)"
      ]
     },
     "execution_count": 51,
     "metadata": {},
     "output_type": "execute_result"
    }
   ],
   "source": [
    "word_vectors['cat']"
   ]
  },
  {
   "cell_type": "code",
   "execution_count": 52,
   "metadata": {},
   "outputs": [],
   "source": [
    "model_es= gensim.models.KeyedVectors.load_word2vec_format('../fastext aligned/wiki.es.align.vec', binary=False, encoding='utf8')\n"
   ]
  },
  {
   "cell_type": "code",
   "execution_count": 53,
   "metadata": {},
   "outputs": [],
   "source": [
    "model_es.save('../fastext aligned/bin/wiki.es.align.bin')"
   ]
  },
  {
   "cell_type": "code",
   "execution_count": 54,
   "metadata": {},
   "outputs": [],
   "source": [
    "word_vectors2 = KeyedVectors.load('../fastext aligned/bin/wiki.es.align.bin', mmap='r')"
   ]
  },
  {
   "cell_type": "code",
   "execution_count": 55,
   "metadata": {},
   "outputs": [
    {
     "data": {
      "text/plain": [
       "[('gato', 0.5217772722244263)]"
      ]
     },
     "execution_count": 55,
     "metadata": {},
     "output_type": "execute_result"
    }
   ],
   "source": [
    "word_vectors2.most_similar(positive=[word_vectors['cat']],topn=1)"
   ]
  },
  {
   "cell_type": "markdown",
   "metadata": {},
   "source": [
    "# import datos"
   ]
  },
  {
   "cell_type": "code",
   "execution_count": 1,
   "metadata": {},
   "outputs": [],
   "source": [
    "import pandas as pd\n",
    "\n",
    "df = pd.read_csv(\"twits_cop25_results_en_es.csv\")"
   ]
  },
  {
   "cell_type": "code",
   "execution_count": 9,
   "metadata": {},
   "outputs": [],
   "source": [
    "df = df.drop('id', 1)\n",
    "df = df.drop('created_at', 1)\n",
    "df = df.drop('geo', 1)\n",
    "df = df.drop('near', 1)\n",
    "df = df.drop('source', 1)\n",
    "df = df.drop('user_rt_id', 1)\n",
    "df = df.drop('user_rt', 1)       \n",
    "df = df.drop('retweet_id', 1)\n",
    "df = df.drop('retweet_date', 1)\n",
    "df = df.drop('translate', 1)\n",
    "df = df.drop('trans_src', 1)\n",
    "df = df.drop('trans_dest', 1)\n",
    "df = df.drop('quote_url', 1)\n",
    "df = df.drop('place', 1)\n",
    "df = df.drop('video', 1)\n",
    "df = df.drop('username', 1)\n",
    "df = df.drop('name', 1)\n",
    "df = df.drop('urls', 1)\n",
    "df = df.drop('photos', 1)\n",
    "df = df.drop('replies_count', 1)\n",
    "df = df.drop('cashtags', 1)\n",
    "df = df.drop('link', 1)\n",
    "df = df.drop('retweet', 1)"
   ]
  },
  {
   "cell_type": "code",
   "execution_count": 50,
   "metadata": {},
   "outputs": [
    {
     "name": "stdout",
     "output_type": "stream",
     "text": [
      "<class 'pandas.core.frame.DataFrame'>\n",
      "RangeIndex: 124524 entries, 0 to 124523\n",
      "Data columns (total 11 columns):\n",
      "conversation_id    124524 non-null int64\n",
      "date               124524 non-null object\n",
      "time               124524 non-null object\n",
      "timezone           124524 non-null int64\n",
      "user_id            124524 non-null int64\n",
      "tweet              124524 non-null object\n",
      "mentions           124524 non-null object\n",
      "retweets_count     124524 non-null int64\n",
      "likes_count        124524 non-null int64\n",
      "hashtags           124524 non-null object\n",
      "reply_to           124524 non-null object\n",
      "dtypes: int64(5), object(6)\n",
      "memory usage: 10.5+ MB\n"
     ]
    }
   ],
   "source": [
    "df.info()"
   ]
  },
  {
   "cell_type": "code",
   "execution_count": 51,
   "metadata": {},
   "outputs": [],
   "source": [
    "df_chile = pd.read_csv(\"twits_cop25chile_results_en_es.csv\")"
   ]
  },
  {
   "cell_type": "code",
   "execution_count": 52,
   "metadata": {},
   "outputs": [
    {
     "name": "stdout",
     "output_type": "stream",
     "text": [
      "<class 'pandas.core.frame.DataFrame'>\n",
      "RangeIndex: 42105 entries, 0 to 42104\n",
      "Data columns (total 34 columns):\n",
      "id                 42105 non-null int64\n",
      "conversation_id    42105 non-null int64\n",
      "created_at         42105 non-null int64\n",
      "date               42105 non-null object\n",
      "time               42105 non-null object\n",
      "timezone           42105 non-null int64\n",
      "user_id            42105 non-null int64\n",
      "username           42105 non-null object\n",
      "name               42102 non-null object\n",
      "place              175 non-null object\n",
      "tweet              42105 non-null object\n",
      "mentions           42105 non-null object\n",
      "urls               42105 non-null object\n",
      "photos             42105 non-null object\n",
      "replies_count      42105 non-null int64\n",
      "retweets_count     42105 non-null int64\n",
      "likes_count        42105 non-null int64\n",
      "hashtags           42105 non-null object\n",
      "cashtags           42105 non-null object\n",
      "link               42105 non-null object\n",
      "retweet            42105 non-null bool\n",
      "quote_url          6355 non-null object\n",
      "video              42105 non-null int64\n",
      "near               0 non-null float64\n",
      "geo                0 non-null float64\n",
      "source             0 non-null float64\n",
      "user_rt_id         0 non-null float64\n",
      "user_rt            0 non-null float64\n",
      "retweet_id         0 non-null float64\n",
      "reply_to           42105 non-null object\n",
      "retweet_date       0 non-null float64\n",
      "translate          0 non-null float64\n",
      "trans_src          0 non-null float64\n",
      "trans_dest         0 non-null float64\n",
      "dtypes: bool(1), float64(10), int64(9), object(14)\n",
      "memory usage: 10.6+ MB\n"
     ]
    }
   ],
   "source": [
    "df_chile.info()"
   ]
  },
  {
   "cell_type": "code",
   "execution_count": null,
   "metadata": {},
   "outputs": [],
   "source": []
  }
 ],
 "metadata": {
  "kernelspec": {
   "display_name": "Python 3",
   "language": "python",
   "name": "python3"
  },
  "language_info": {
   "codemirror_mode": {
    "name": "ipython",
    "version": 3
   },
   "file_extension": ".py",
   "mimetype": "text/x-python",
   "name": "python",
   "nbconvert_exporter": "python",
   "pygments_lexer": "ipython3",
   "version": "3.6.8"
  }
 },
 "nbformat": 4,
 "nbformat_minor": 2
}
